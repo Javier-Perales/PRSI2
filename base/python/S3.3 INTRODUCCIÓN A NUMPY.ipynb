{
 "cells": [
  {
   "cell_type": "markdown",
   "metadata": {},
   "source": [
    "# Fundamentos de las matrices NumPy\n",
    "NumPy es una de las bibliotecas de Python más populares para la computación científica y el análisis de datos. Las estructuras de datos básicas en NumPy son las matrices N-dimensionales. \n",
    "Para empezar a trabajar con NumPy, primero debe instalar la biblioteca e importarla a su entorno de trabajo. \n",
    "\n",
    "Para instalar NumPy, abra su terminal y ejecute el siguiente comando: ``` pip install numpy ```\n",
    "\n",
    "Es común importar NumPy con un alias, generalmente como np. Esto facilita la referencia a las funciones y objetos de NumPy en tu código. Aquí tienes cómo hacerlo:\n",
    "```python\n",
    "# Importar NumPy con alias\n",
    "import numpy as np\n",
    "```\n",
    "Puedes verificar la versión de NumPy que tienes instalada en tu entorno de desarrollo utilizando el atributo __version__. Aquí tienes un ejemplo:\n",
    "```python\n",
    "import numpy as np\n",
    "version = np.__version__\n",
    "print(version)\n",
    "```\n",
    "Ahora que has importado NumPy y verificado su versión, estás listo para comenzar a trabajar con esta poderosa biblioteca de Python. NumPy te proporciona herramientas para realizar cálculos matemáticos y trabajar con matrices de manera eficiente."
   ]
  },
  {
   "cell_type": "markdown",
   "metadata": {},
   "source": [
    "## Creación de Matrices en NumPy\n",
    "Las matrices son estructuras de datos fundamentales en **NumPy**.\n",
    "En NumPy, las matrices se representan mediante el objeto `ndarray` (matriz n-dimensional). No hay que confundirlo con el tipo `list` de Python. Las listas son objetos que pueden contener elementos de distintos tipos, cosa que no ocurre en objetos array de numpy."
   ]
  },
  {
   "cell_type": "code",
   "execution_count": 5,
   "metadata": {},
   "outputs": [
    {
     "name": "stdout",
     "output_type": "stream",
     "text": [
      "[1 2 3 4 5]\n",
      "----\n",
      "[[1 2 3]\n",
      " [4 5 6]\n",
      " [7 8 9]]\n"
     ]
    }
   ],
   "source": [
    "# Creación de una matriz manualmente\n",
    "import numpy as np\n",
    "m1d=np.array([1, 2, 3, 4, 5])\n",
    "m2d=np.array([[1, 2, 3], [4, 5, 6], [7, 8, 9]])\n",
    "print(m1d)\n",
    "print(\"----\")\n",
    "print(m2d)"
   ]
  },
  {
   "cell_type": "code",
   "execution_count": 6,
   "metadata": {},
   "outputs": [
    {
     "name": "stdout",
     "output_type": "stream",
     "text": [
      "[[0. 0. 0.]\n",
      " [0. 0. 0.]\n",
      " [0. 0. 0.]]\n",
      "\n",
      "[[1. 1. 1. 1.]\n",
      " [1. 1. 1. 1.]]\n"
     ]
    }
   ],
   "source": [
    "# Matriz de ceros de tamaña 3x3\n",
    "matriz_ceros = np.zeros((3, 3))\n",
    "print(matriz_ceros)\n",
    "print()\n",
    "# Matriz de unos de tamaño 2x4\n",
    "matriz_unos = np.ones((2, 4))\n",
    "print(matriz_unos)"
   ]
  },
  {
   "cell_type": "code",
   "execution_count": 7,
   "metadata": {},
   "outputs": [
    {
     "name": "stdout",
     "output_type": "stream",
     "text": [
      "[[1. 0. 0. 0.]\n",
      " [0. 1. 0. 0.]\n",
      " [0. 0. 1. 0.]\n",
      " [0. 0. 0. 1.]]\n"
     ]
    }
   ],
   "source": [
    "# Matriz identidad de tamaño 4x4\n",
    "matriz_identidad = np.eye(4)\n",
    "print(matriz_identidad)"
   ]
  },
  {
   "cell_type": "code",
   "execution_count": 8,
   "metadata": {},
   "outputs": [
    {
     "name": "stdout",
     "output_type": "stream",
     "text": [
      "[[1 2 3]\n",
      " [4 5 6]\n",
      " [7 8 9]]\n"
     ]
    }
   ],
   "source": [
    "# Matriz de 3x3 con valores del 1 al 9\n",
    "matriz_rango = np.arange(1, 10).reshape((3, 3))\n",
    "print(matriz_rango)"
   ]
  },
  {
   "cell_type": "markdown",
   "metadata": {},
   "source": [
    "La **función arange** crea un arreglo unidimensional entre dos valores límites, utilizando un paso (o incremento) especificado. La sintaxis más general de arange es como sigue:\n",
    "```python\n",
    "\n",
    "np.arange(start, stop, step)\n",
    "```\n",
    "Donde start es el valor límite inferior, stop el valor límite superior y step el paso. Observa el siguiente ejemplo: ```python np.arange(1, 10, 1) ``` es equivalente a ```python array([1, 2, 3, 4, 5, 6, 7, 8, 9]) ```\n",
    "\n",
    "\n"
   ]
  },
  {
   "cell_type": "code",
   "execution_count": 9,
   "metadata": {},
   "outputs": [
    {
     "name": "stdout",
     "output_type": "stream",
     "text": [
      "[[6 9 2]\n",
      " [2 8 0]\n",
      " [1 6 6]]\n"
     ]
    }
   ],
   "source": [
    "# Matriz de tamaño 3x3 con valores aleatorios entre 0 y 1\n",
    "matriz_aleatoria = np.random.randint(0, 10, size=(3,3))\n",
    "print(matriz_aleatoria)"
   ]
  },
  {
   "cell_type": "markdown",
   "metadata": {},
   "source": [
    "## Operaciones básicas"
   ]
  },
  {
   "cell_type": "markdown",
   "metadata": {},
   "source": [
    "Llamaremos operaciones básicas con matrices a la **suma**, **resta** y **multiplicación** de matrices. Supongamos cuatro matrices A, B, C, D, definidas como sigue:\n",
    "\n",
    "$$\n",
    "A = \\begin{bmatrix}\n",
    "1 & 2 \\\\\n",
    " 3 &  4\\\\\n",
    "\\end{bmatrix} ;    \n",
    "B = \\begin{bmatrix}\n",
    "5 &  0\\\\\n",
    "-8 & 3 \\\\\n",
    "\\end{bmatrix} ; \n",
    "C = \\begin{bmatrix}\n",
    "11 & 4 & 9 \\\\\n",
    "0 & 1 & -4 \\\\\n",
    "\\end{bmatrix} ; \n",
    "D = \\begin{bmatrix}\n",
    "-5 & 6 \\\\\n",
    "2 & 3 \\\\\n",
    "12 & 1 \\\\\n",
    "\\end{bmatrix}\n",
    "$$\n",
    "\n",
    "Para crearlas en NumPy haríamos lo siguiente:\n",
    "```python\n",
    "A = np.array([[1,2],[3,4]])\n",
    "B = np.array([[5,0],[-8,3]])\n",
    "C = np.array([[11,4,9],[0,1,-4]])\n",
    "D = np.array([[-5,6],[2,3],[12,1]])\n",
    "```"
   ]
  },
  {
   "cell_type": "code",
   "execution_count": 10,
   "metadata": {},
   "outputs": [
    {
     "name": "stdout",
     "output_type": "stream",
     "text": [
      "[[1 2]\n",
      " [3 4]]\n",
      "----------------\n",
      "[[ 5  0]\n",
      " [-8  3]]\n",
      "----------------\n",
      "[[11  4  9]\n",
      " [ 0  1 -4]]\n",
      "----------------\n",
      "[[-5  6]\n",
      " [ 2  3]\n",
      " [12  1]]\n"
     ]
    }
   ],
   "source": [
    "#Para crearlas en NumPy haríamos lo siguiente:\n",
    "\n",
    "A = np.array([[1,2],[3,4]])\n",
    "B = np.array([[5,0],[-8,3]])\n",
    "C = np.array([[11,4,9],[0,1,-4]])\n",
    "D = np.array([[-5,6],[2,3],[12,1]])\n",
    "\n",
    "print(A)\n",
    "print(\"----------------\")\n",
    "print(B)\n",
    "print(\"----------------\")\n",
    "print(C)\n",
    "print(\"----------------\")\n",
    "print(D)"
   ]
  },
  {
   "cell_type": "code",
   "execution_count": 11,
   "metadata": {},
   "outputs": [
    {
     "name": "stdout",
     "output_type": "stream",
     "text": [
      "[[ 6  2]\n",
      " [-5  7]]\n"
     ]
    }
   ],
   "source": [
    "# Para sumar matrices utilizamos el operador +, por ejemplo, para calcular \n",
    "print (A+B)"
   ]
  },
  {
   "cell_type": "markdown",
   "metadata": {},
   "source": [
    "La resta de matrices funciona de manera muy similar, con la consideración de que el operador involucrado en este caso es -.\n",
    "Debemos recordar que la suma (y resta) de matrices es una operación que se realiza elemento a elemento, esto implica que las matrices involucradas deben ser del mismo tamaño. Si intentamos realizar una suma con matrices de diferente tamaño, entonces Python nos devolverá un mensaje de error.\n"
   ]
  },
  {
   "cell_type": "code",
   "execution_count": 12,
   "metadata": {},
   "outputs": [
    {
     "name": "stdout",
     "output_type": "stream",
     "text": [
      "[[-25  30]\n",
      " [ 10  15]\n",
      " [ 60   5]]\n"
     ]
    }
   ],
   "source": [
    "#La multiplicación de una matriz por un escalar se puede ejecutar utilizando el operador *, por ejemplo:\n",
    "print(5*D)"
   ]
  }
 ],
 "metadata": {
  "kernelspec": {
   "display_name": "base",
   "language": "python",
   "name": "python3"
  },
  "language_info": {
   "codemirror_mode": {
    "name": "ipython",
    "version": 3
   },
   "file_extension": ".py",
   "mimetype": "text/x-python",
   "name": "python",
   "nbconvert_exporter": "python",
   "pygments_lexer": "ipython3",
   "version": "3.12.2"
  }
 },
 "nbformat": 4,
 "nbformat_minor": 2
}
